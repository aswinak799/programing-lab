{
 "cells": [
  {
   "cell_type": "code",
   "execution_count": 2,
   "metadata": {},
   "outputs": [
    {
     "name": "stdout",
     "output_type": "stream",
     "text": [
      "anand 12.10.2021\n",
      "\n",
      "junaid 11.6.2018\n",
      "\n"
     ]
    }
   ],
   "source": [
    "import re\n",
    "file=open(\"re.txt\",\"r\")\n",
    "text=file.readlines()\n",
    "file.close()\n",
    "key=re.compile(r\"\\d\\d?\\.\\d\\d?\\.\\d\\d\")\n",
    "for l in text:\n",
    "    if key.search(l):\n",
    "        print(l)\n",
    "    "
   ]
  },
  {
   "cell_type": "code",
   "execution_count": null,
   "metadata": {
    "collapsed": true
   },
   "outputs": [],
   "source": []
  }
 ],
 "metadata": {
  "kernelspec": {
   "display_name": "Python 3",
   "language": "python",
   "name": "python3"
  },
  "language_info": {
   "codemirror_mode": {
    "name": "ipython",
    "version": 3
   },
   "file_extension": ".py",
   "mimetype": "text/x-python",
   "name": "python",
   "nbconvert_exporter": "python",
   "pygments_lexer": "ipython3",
   "version": "3.6.3"
  }
 },
 "nbformat": 4,
 "nbformat_minor": 2
}
