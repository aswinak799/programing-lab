{
 "cells": [
  {
   "cell_type": "code",
   "execution_count": 1,
   "metadata": {},
   "outputs": [
    {
     "name": "stdout",
     "output_type": "stream",
     "text": [
      "Enter the number : 5\n",
      "The factorial of your number is:  120\n"
     ]
    }
   ],
   "source": [
    "#find the factorial of the number\n",
    "fac=int(input(\"Enter the number : \"))\n",
    "if fac==0:\n",
    "    print(\"Factorial of zero is one...\")\n",
    "    \n",
    "else:\n",
    "    f=1\n",
    "    while fac>0:\n",
    "        f=f*fac\n",
    "        fac=fac-1\n",
    "    print(\"The factorial of your number is: \",f)\n",
    "    "
   ]
  },
  {
   "cell_type": "code",
   "execution_count": 1,
   "metadata": {},
   "outputs": [
    {
     "name": "stdout",
     "output_type": "stream",
     "text": [
      "Enter the namber7\n",
      "The fibonacci sequence is:\n",
      "\n",
      "0\n",
      "1\n",
      "1\n",
      "2\n",
      "3\n",
      "5\n",
      "8\n"
     ]
    }
   ],
   "source": [
    "#find the fibonocci sequence\n",
    "nums=int(input(\"Enter the namber\"))\n",
    "n1,n2=0,1\n",
    "\n",
    "if nums==0:\n",
    "    print(\"Fibanocci sequence with zero element is zero\")\n",
    "elif nums==1:\n",
    "    print(\"The sequence is:0\")\n",
    "else:\n",
    "    print(\"The fibonacci sequence is:\\n\")\n",
    "    print(n1)\n",
    "    print(n2)\n",
    "    for i in range(nums-2):\n",
    "        c=n1+n2\n",
    "        print(c)\n",
    "        n1=n2\n",
    "        n2=c"
   ]
  },
  {
   "cell_type": "code",
   "execution_count": 3,
   "metadata": {},
   "outputs": [
    {
     "name": "stdout",
     "output_type": "stream",
     "text": [
      "Enter two nambers\n",
      "24\n",
      "18\n",
      "The gcd of you entered two number is: 6\n"
     ]
    }
   ],
   "source": [
    "#find the gcd of any two numbers\n",
    "a=int(input(\"Enter two nambers\\n\"))\n",
    "b=int(input())\n",
    "r=1\n",
    "while r>0:\n",
    "    r=a%b\n",
    "    a=b\n",
    "    b=r\n",
    "    if r==0:\n",
    "        break\n",
    "print(\"The gcd of you entered two number is:\",a)\n",
    "    "
   ]
  },
  {
   "cell_type": "code",
   "execution_count": 16,
   "metadata": {},
   "outputs": [
    {
     "name": "stdout",
     "output_type": "stream",
     "text": [
      "Enter the elements in your list seperated by comma:\n",
      "1,2,3,6\n",
      "The sum your list elements: 12\n"
     ]
    }
   ],
   "source": [
    "#find the sum of all elements in the list enterd by user\n",
    "lst=input(\"Enter the elements in your list seperated by comma:\\n\")\n",
    "l=lst.split(\",\")\n",
    "s=0\n",
    "for i in l:\n",
    "    s=s+int(i)\n",
    "print(\"The sum your list elements:\",s)\n"
   ]
  },
  {
   "cell_type": "code",
   "execution_count": 18,
   "metadata": {},
   "outputs": [
    {
     "name": "stdout",
     "output_type": "stream",
     "text": [
      "Enter the number: 5\n",
      "The required pyramid is:\n",
      "\n",
      "1 \n",
      "\n",
      "2 4 \n",
      "\n",
      "3 6 9 \n",
      "\n",
      "4 8 12 16 \n",
      "\n",
      "5 10 15 20 25 \n",
      "\n"
     ]
    }
   ],
   "source": [
    "#pyramid of multiplies\n",
    "n=int(input(\"Enter the number: \"))\n",
    "print(\"The required pyramid is:\\n\")\n",
    "for i in range(1,n+1):\n",
    "    for j in range(1,i+1):\n",
    "        print(i*j,end=\" \")\n",
    "    print(\"\\n\")\n",
    "        "
   ]
  },
  {
   "cell_type": "code",
   "execution_count": 2,
   "metadata": {},
   "outputs": [
    {
     "name": "stdout",
     "output_type": "stream",
     "text": [
      "Enter a srring: malayalam\n",
      "Number of occurence of y in word is: 1\n",
      "Number of occurence of a in word is: 4\n",
      "Number of occurence of l in word is: 2\n",
      "Number of occurence of m in word is: 2\n"
     ]
    }
   ],
   "source": [
    "#frequency of character of a string\n",
    "img=input(\"Enter a srring: \")\n",
    "l=list(img)\n",
    "s=set(l)\n",
    "l2=list(s)\n",
    "for i in range(len(l2)):\n",
    "    m=l.count(l2[i])\n",
    "    print(\"Number of occurence of\",l2[i],\"in word is:\",m)"
   ]
  },
  {
   "cell_type": "code",
   "execution_count": 9,
   "metadata": {},
   "outputs": [
    {
     "name": "stdout",
     "output_type": "stream",
     "text": [
      "Enter the number: 12\n",
      "The factors of 12 is:\t\n",
      "1   2   3   4   6   12   "
     ]
    }
   ],
   "source": [
    "#factors of given number\n",
    "n=int(input(\"Enter the number: \"))\n",
    "i=1\n",
    "print(\"The factors of\",n,\"is:\\t\")\n",
    "while i<n+1:\n",
    "    if n%i==0:\n",
    "        print(i,\" \",end=\" \")\n",
    "    i+=1"
   ]
  },
  {
   "cell_type": "code",
   "execution_count": 16,
   "metadata": {},
   "outputs": [
    {
     "name": "stdout",
     "output_type": "stream",
     "text": [
      "* \n",
      "\n",
      "* * \n",
      "\n",
      "* * * \n",
      "\n",
      "* * * * \n",
      "\n",
      "* * * * * \n",
      "\n",
      "* * * * \n",
      "\n",
      "* * * \n",
      "\n",
      "* * \n",
      "\n",
      "* \n",
      "\n"
     ]
    }
   ],
   "source": [
    "#star pattern\n",
    "for i in range(0,4):\n",
    "    for j in range(0,i+1):\n",
    "        print(\"*\",end=\" \")\n",
    "    print(\"\\n\")\n",
    "for i in range(4,-1,-1):\n",
    "    for j in range(0,i+1):\n",
    "        print(\"*\",end=\" \")\n",
    "    print(\"\\n\")"
   ]
  },
  {
   "cell_type": "code",
   "execution_count": null,
   "metadata": {
    "collapsed": true
   },
   "outputs": [],
   "source": []
  }
 ],
 "metadata": {
  "kernelspec": {
   "display_name": "Python 3",
   "language": "python",
   "name": "python3"
  },
  "language_info": {
   "codemirror_mode": {
    "name": "ipython",
    "version": 3
   },
   "file_extension": ".py",
   "mimetype": "text/x-python",
   "name": "python",
   "nbconvert_exporter": "python",
   "pygments_lexer": "ipython3",
   "version": "3.6.3"
  }
 },
 "nbformat": 4,
 "nbformat_minor": 2
}
