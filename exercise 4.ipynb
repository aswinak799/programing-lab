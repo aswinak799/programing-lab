{
 "cells": [
  {
   "cell_type": "code",
   "execution_count": 1,
   "metadata": {},
   "outputs": [
    {
     "name": "stdout",
     "output_type": "stream",
     "text": [
      "Enter a name or word: PYTHON\n",
      "We have swaped something for you NYTHOP\n"
     ]
    }
   ],
   "source": [
    "#prgm to swap first and last character in a string\n",
    "n=input(\"Enter a name or word: \")\n",
    "length=len(n)\n",
    "n=n[length-1]+n[1:length-1]+n[0]\n",
    "print(\"We have swaped something for you\",n)\n"
   ]
  },
  {
   "cell_type": "code",
   "execution_count": 3,
   "metadata": {},
   "outputs": [
    {
     "name": "stdout",
     "output_type": "stream",
     "text": [
      "Enter name or word: PYTHON\n",
      "Concated form is:  PYON\n"
     ]
    }
   ],
   "source": [
    "#PRGM TO CONCACT FIRST TWO AND LAST TWO CHAR OF THE GIVEN STRING\n",
    "s=input(\"Enter name or word: \")\n",
    "length=len(s)\n",
    "z=s[0:2]+s[length-2:length]\n",
    "print(\"Concated form is: \",z)"
   ]
  },
  {
   "cell_type": "code",
   "execution_count": 4,
   "metadata": {},
   "outputs": [
    {
     "name": "stdout",
     "output_type": "stream",
     "text": [
      "Enter the first string: HELLO\n",
      "Enter the second string: PYTHON\n",
      "The new string is :  PYLLO HETHON\n"
     ]
    }
   ],
   "source": [
    "#PRGM TO GET A NEW STRING WITH FIRST TWO LETTER SWAPPED OF TWO STRINGS\n",
    "str1=input(\"Enter the first string: \")\n",
    "str2=input(\"Enter the second string: \")\n",
    "l=len(str2)\n",
    "m=str2[0:2]+str1[2:]+\" \"+str1[0:2]+str2[2:]\n",
    "print(\"The new string is : \",m)"
   ]
  },
  {
   "cell_type": "code",
   "execution_count": 3,
   "metadata": {},
   "outputs": [
    {
     "name": "stdout",
     "output_type": "stream",
     "text": [
      "Enter the string: hai hallo\n",
      "The new string is:  hai $allo\n"
     ]
    }
   ],
   "source": [
    "#PROGRAM TO REPLACE SPECIFIED CHAR TO $\n",
    "s=input(\"Enter the string: \")\n",
    "l=len(s)\n",
    "k=s[0]\n",
    "m=s.replace(k,\"$\")\n",
    "g=s[0]+m[1:]\n",
    "print(\"The new string is: \",g)"
   ]
  },
  {
   "cell_type": "code",
   "execution_count": null,
   "metadata": {
    "collapsed": true
   },
   "outputs": [],
   "source": []
  }
 ],
 "metadata": {
  "kernelspec": {
   "display_name": "Python 3",
   "language": "python",
   "name": "python3"
  },
  "language_info": {
   "codemirror_mode": {
    "name": "ipython",
    "version": 3
   },
   "file_extension": ".py",
   "mimetype": "text/x-python",
   "name": "python",
   "nbconvert_exporter": "python",
   "pygments_lexer": "ipython3",
   "version": "3.6.3"
  }
 },
 "nbformat": 4,
 "nbformat_minor": 2
}
