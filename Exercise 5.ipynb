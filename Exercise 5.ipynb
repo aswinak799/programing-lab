{
 "cells": [
  {
   "cell_type": "code",
   "execution_count": 3,
   "metadata": {},
   "outputs": [
    {
     "name": "stdout",
     "output_type": "stream",
     "text": [
      "Enter the numbers: 22,35,45,55,66\n",
      "The comma seperated list:  ['22', '35', '45', '55', '66']\n"
     ]
    }
   ],
   "source": [
    "# write python program sequence of comma seperated from user gen list\n",
    "str=(input(\"Enter the numbers: \"))\n",
    "n=str.split(\",\")\n",
    "print(\"The comma seperated list: \",n)\n"
   ]
  },
  {
   "cell_type": "code",
   "execution_count": 4,
   "metadata": {},
   "outputs": [
    {
     "name": "stdout",
     "output_type": "stream",
     "text": [
      "Enter the colors: red,blue,green,yellow,orange\n",
      "the first color is:  red\n",
      "the second color is:  orange\n"
     ]
    }
   ],
   "source": [
    "#write prgm list of comma seperated color names from user,display  first and last color\n",
    "color=input(\"Enter the colors: \")\n",
    "clr=color.split(\",\")\n",
    "print(\"the first color is: \",clr[0])\n",
    "print(\"the second color is: \",clr[-1])"
   ]
  },
  {
   "cell_type": "code",
   "execution_count": 1,
   "metadata": {},
   "outputs": [
    {
     "name": "stdout",
     "output_type": "stream",
     "text": [
      "Enter the file name with extenssion: example.png\n",
      "The extension of the file is: png\n"
     ]
    }
   ],
   "source": [
    "#to print exension\n",
    "ext=input(\"Enter the file name with extenssion: \")\n",
    "sp=ext.split(\".\")\n",
    "print(\"The extension of the file is:\",sp[1])"
   ]
  },
  {
   "cell_type": "code",
   "execution_count": null,
   "metadata": {
    "collapsed": true
   },
   "outputs": [],
   "source": []
  }
 ],
 "metadata": {
  "kernelspec": {
   "display_name": "Python 3",
   "language": "python",
   "name": "python3"
  },
  "language_info": {
   "codemirror_mode": {
    "name": "ipython",
    "version": 3
   },
   "file_extension": ".py",
   "mimetype": "text/x-python",
   "name": "python",
   "nbconvert_exporter": "python",
   "pygments_lexer": "ipython3",
   "version": "3.6.3"
  }
 },
 "nbformat": 4,
 "nbformat_minor": 2
}
