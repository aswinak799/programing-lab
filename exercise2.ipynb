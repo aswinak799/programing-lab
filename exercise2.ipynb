{
 "cells": [
  {
   "cell_type": "code",
   "execution_count": 1,
   "metadata": {},
   "outputs": [
    {
     "name": "stdout",
     "output_type": "stream",
     "text": [
      "enter the radius of the circle= 10\n",
      "area of the circle=  314.1592653589793\n"
     ]
    }
   ],
   "source": [
    "#find the area of a circle\n",
    "import math\n",
    "r=int(input('enter the radius of the circle= '))\n",
    "area=math.pi*r*r\n",
    "print('area of the circle= ',area)"
   ]
  },
  {
   "cell_type": "code",
   "execution_count": 2,
   "metadata": {},
   "outputs": [
    {
     "name": "stdout",
     "output_type": "stream",
     "text": [
      "enter a number: 1\n",
      "value is = 123\n"
     ]
    }
   ],
   "source": [
    "a=int(input('enter a number: '))\n",
    "k=a+((a*10)+a)+((a*100)+(a*10)+a)\n",
    "print('value is =',k)"
   ]
  },
  {
   "cell_type": "code",
   "execution_count": null,
   "metadata": {
    "collapsed": true
   },
   "outputs": [],
   "source": []
  }
 ],
 "metadata": {
  "kernelspec": {
   "display_name": "Python 3",
   "language": "python",
   "name": "python3"
  },
  "language_info": {
   "codemirror_mode": {
    "name": "ipython",
    "version": 3
   },
   "file_extension": ".py",
   "mimetype": "text/x-python",
   "name": "python",
   "nbconvert_exporter": "python",
   "pygments_lexer": "ipython3",
   "version": "3.6.3"
  }
 },
 "nbformat": 4,
 "nbformat_minor": 2
}
