{
 "cells": [
  {
   "cell_type": "code",
   "execution_count": 12,
   "id": "f240e786",
   "metadata": {},
   "outputs": [
    {
     "name": "stdout",
     "output_type": "stream",
     "text": [
      "Enter the length of rectangle 1:6\n",
      "Enter the breadth of rectangle 1:5\n",
      "Enter the length of rectangle 2:6\n",
      "Enter the breadth of rectangle 2:6\n",
      "The area of 2nd rectangle is greater\n",
      "Area= 36\n",
      "Perimeeter= 24\n",
      "Difference in area :  6\n"
     ]
    }
   ],
   "source": [
    "#create rectangle class\n",
    "class Rectangle():\n",
    "    def rectlb(self,l,b):\n",
    "        self.length=l\n",
    "        self.breadth=b\n",
    "    def area(self):\n",
    "        return self.length*self.breadth\n",
    "    def perimeeter(self):\n",
    "        return 2*(self.length+self.breadth)\n",
    "obj1=Rectangle()        \n",
    "obj2=Rectangle()\n",
    "l=int(input(\"Enter the length of rectangle 1:\"))\n",
    "b=int(input(\"Enter the breadth of rectangle 1:\"))\n",
    "l1=int(input(\"Enter the length of rectangle 2:\"))\n",
    "b1=int(input(\"Enter the breadth of rectangle 2:\"))\n",
    "obj1.rectlb(l,b)\n",
    "obj2.rectlb(l1,b1)\n",
    "area=obj1.area()\n",
    "area1=obj2.area()\n",
    "if area>area1:\n",
    "    print(\"The area of 1st rectangle is greater\")\n",
    "    print(\"Area=\",area)\n",
    "    print(\"Perimeeter=\",obj1.perimeeter())\n",
    "    print(\"Difference in area : \",area-area1)\n",
    "else:\n",
    "    print(\"The area of 2nd rectangle is greater\")\n",
    "    print(\"Area=\",area1)\n",
    "    print(\"Perimeeter=\",obj2.perimeeter())\n",
    "    print(\"Difference in area : \",area1-area)"
   ]
  },
  {
   "cell_type": "code",
   "execution_count": 16,
   "id": "01635195",
   "metadata": {},
   "outputs": [
    {
     "name": "stdout",
     "output_type": "stream",
     "text": [
      "Enter roll number: 16\n",
      "Enter name of student: cryff\n",
      "Enter the class of student: 8A\n",
      "student details\n"
     ]
    }
   ],
   "source": [
    "#student class rollno,name and class usingconstructor\n",
    "class studentclass:\n",
    "    def __init__(self,rl,nm,cl):\n",
    "        self.rollnm=rl\n",
    "        self.name=nm\n",
    "        self.clas=cl\n",
    "        print(\"student details\")\n",
    "    def display(self):\n",
    "        print(\"ROLL NO: \",self.rollnm,\"\\nNAME: \",self.name,\"\\nCLASS: \",self.clas)\n",
    "    def updateroll(self,nw):\n",
    "        self.rollnm=nw\n",
    "        print(\"updated roll number is:\",self.rollnm)\n",
    "rl=int(input(\"Enter roll number: \"))\n",
    "nm=input(\"Enter name of student: \")\n",
    "cl=input(\"Enter the class of student: \")\n",
    "f=studentclass(rl,nm,cl)"
   ]
  },
  {
   "cell_type": "code",
   "execution_count": 17,
   "id": "78aab9af",
   "metadata": {},
   "outputs": [
    {
     "name": "stdout",
     "output_type": "stream",
     "text": [
      "ROLL NO:  16 \n",
      "NAME:  cryff \n",
      "CLASS:  8A\n"
     ]
    }
   ],
   "source": [
    "f.display()"
   ]
  },
  {
   "cell_type": "code",
   "execution_count": 21,
   "id": "4096d298",
   "metadata": {},
   "outputs": [
    {
     "name": "stdout",
     "output_type": "stream",
     "text": [
      "updated roll number is: 17\n",
      "ROLL NO:  17 \n",
      "NAME:  cryff \n",
      "CLASS:  8A\n"
     ]
    }
   ],
   "source": [
    "f.updateroll(17)\n",
    "f.display()"
   ]
  },
  {
   "cell_type": "code",
   "execution_count": null,
   "id": "3199e9c5",
   "metadata": {},
   "outputs": [],
   "source": []
  }
 ],
 "metadata": {
  "kernelspec": {
   "display_name": "Python 3 (ipykernel)",
   "language": "python",
   "name": "python3"
  },
  "language_info": {
   "codemirror_mode": {
    "name": "ipython",
    "version": 3
   },
   "file_extension": ".py",
   "mimetype": "text/x-python",
   "name": "python",
   "nbconvert_exporter": "python",
   "pygments_lexer": "ipython3",
   "version": "3.9.7"
  }
 },
 "nbformat": 4,
 "nbformat_minor": 5
}
