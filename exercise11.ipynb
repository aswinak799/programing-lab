{
 "cells": [
  {
   "cell_type": "code",
   "execution_count": 1,
   "metadata": {},
   "outputs": [
    {
     "name": "stdout",
     "output_type": "stream",
     "text": [
      "enter source:myfile.txt\n",
      "enter destination file:new.txt\n",
      "coppied file\n"
     ]
    }
   ],
   "source": [
    "#program to copy a text file to another\n",
    "file1=input(\"enter source:\")\n",
    "file2=input(\"enter destination file:\")\n",
    "fr=open(file1,\"r\")\n",
    "fw=open(file2,\"w\")\n",
    "for line in fr.readlines():\n",
    "    fw.write(line)\n",
    "fr.close()\n",
    "fw.close()\n",
    "print(\"coppied file\")"
   ]
  },
  {
   "cell_type": "code",
   "execution_count": 2,
   "metadata": {},
   "outputs": [
    {
     "name": "stdout",
     "output_type": "stream",
     "text": [
      "enter source file:myfile.txt\n",
      "enter destination file:new.txt\n",
      "file appended\n"
     ]
    }
   ],
   "source": [
    "#program to apend a text file to another\n",
    "file1=input(\"enter source file:\")\n",
    "file2=input(\"enter destination file:\")\n",
    "fr=open(file1,\"r\")\n",
    "fw=open(file2,\"a\")\n",
    "for line in fr.readlines():\n",
    "    fw.write(line)\n",
    "fr.close()\n",
    "fw.close()\n",
    "print(\"file appended\")"
   ]
  },
  {
   "cell_type": "code",
   "execution_count": 3,
   "metadata": {},
   "outputs": [
    {
     "name": "stdout",
     "output_type": "stream",
     "text": [
      "Enter the file namenew.txt\n",
      "16\n"
     ]
    }
   ],
   "source": [
    "#program to count no.of lines ina file\n",
    "file=input(\"Enter the file name\")\n",
    "fr=open(file,\"r\")\n",
    "count=0\n",
    "for l in fr.readlines():\n",
    "    count=count+1\n",
    "    \n",
    "fr.close()\n",
    "print(count)\n",
    "    "
   ]
  },
  {
   "cell_type": "code",
   "execution_count": 10,
   "metadata": {},
   "outputs": [
    {
     "name": "stdout",
     "output_type": "stream",
     "text": [
      "enter source file:myfile.txt\n",
      "enter destination file:oddlpz.txt\n",
      "Odd lines copied\n"
     ]
    }
   ],
   "source": [
    "#prgm to copy oddlines\n",
    "file1=input(\"enter source file:\")\n",
    "file2=input(\"enter destination file:\")\n",
    "fr=open(file1,\"r\")\n",
    "fw=open(file2,\"w\")\n",
    "i=0\n",
    "for l in fr.readlines():\n",
    "    i+=1\n",
    "    if i%2==0:\n",
    "        continue\n",
    "    fw.write(l)\n",
    "fr.close()\n",
    "fw.close()\n",
    "print(\"Odd lines copied\")\n",
    "    \n"
   ]
  },
  {
   "cell_type": "code",
   "execution_count": null,
   "metadata": {
    "collapsed": true
   },
   "outputs": [],
   "source": [
    "#python prgm to writ dict to a csv file\n",
    "import csv\n",
    "with open(\"csv1.csv\",\"w\") as f:\n",
    "    fnames=['empid','empname','DOB','Salary']\n",
    "    writer=csv.DictWriter(f,fieldnames=fnames)\n"
   ]
  }
 ],
 "metadata": {
  "kernelspec": {
   "display_name": "Python 3",
   "language": "python",
   "name": "python3"
  },
  "language_info": {
   "codemirror_mode": {
    "name": "ipython",
    "version": 3
   },
   "file_extension": ".py",
   "mimetype": "text/x-python",
   "name": "python",
   "nbconvert_exporter": "python",
   "pygments_lexer": "ipython3",
   "version": "3.6.3"
  }
 },
 "nbformat": 4,
 "nbformat_minor": 2
}
