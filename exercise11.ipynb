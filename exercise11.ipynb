{
 "cells": [
  {
   "cell_type": "code",
   "execution_count": 1,
   "metadata": {},
   "outputs": [
    {
     "name": "stdout",
     "output_type": "stream",
     "text": [
      "enter source:myfile.txt\n",
      "enter destination file:new.txt\n",
      "coppied file\n"
     ]
    }
   ],
   "source": [
    "#1program to copy a text file to another\n",
    "file1=input(\"enter source:\")\n",
    "file2=input(\"enter destination file:\")\n",
    "fr=open(file1,\"r\")\n",
    "fw=open(file2,\"w\")\n",
    "for line in fr.readlines():\n",
    "    fw.write(line)\n",
    "fr.close()\n",
    "fw.close()\n",
    "print(\"coppied file\")"
   ]
  },
  {
   "cell_type": "code",
   "execution_count": 2,
   "metadata": {},
   "outputs": [
    {
     "name": "stdout",
     "output_type": "stream",
     "text": [
      "enter source file:myfile.txt\n",
      "enter destination file:new.txt\n",
      "file appended\n"
     ]
    }
   ],
   "source": [
    "#2program to apend a text file to another\n",
    "file1=input(\"enter source file:\")\n",
    "file2=input(\"enter destination file:\")\n",
    "fr=open(file1,\"r\")\n",
    "fw=open(file2,\"a\")\n",
    "for line in fr.readlines():\n",
    "    fw.write(line)\n",
    "fr.close()\n",
    "fw.close()\n",
    "print(\"file appended\")"
   ]
  },
  {
   "cell_type": "code",
   "execution_count": 3,
   "metadata": {},
   "outputs": [
    {
     "name": "stdout",
     "output_type": "stream",
     "text": [
      "Enter the file namenew.txt\n",
      "16\n"
     ]
    }
   ],
   "source": [
    "#3program to count no.of lines ina file\n",
    "file=input(\"Enter the file name\")\n",
    "fr=open(file,\"r\")\n",
    "count=0\n",
    "for l in fr.readlines():\n",
    "    count=count+1\n",
    "    \n",
    "fr.close()\n",
    "print(count)\n",
    "    "
   ]
  },
  {
   "cell_type": "code",
   "execution_count": 1,
   "metadata": {},
   "outputs": [
    {
     "name": "stdout",
     "output_type": "stream",
     "text": [
      "enter source file:myfile.txt\n",
      "enter destination file:new.tht\n",
      "Odd lines copied\n"
     ]
    }
   ],
   "source": [
    "#4prgm to copy oddlines\n",
    "file1=input(\"enter source file:\")\n",
    "file2=input(\"enter destination file:\")\n",
    "fr=open(file1,\"r\")\n",
    "fw=open(file2,\"w\")\n",
    "i=0\n",
    "for l in fr.readlines():\n",
    "    i+=1\n",
    "    if i%2==0:\n",
    "        continue\n",
    "    fw.write(l)\n",
    "fr.close()\n",
    "fw.close()\n",
    "print(\"Odd lines copied\")\n",
    "    \n"
   ]
  },
  {
   "cell_type": "code",
   "execution_count": 11,
   "metadata": {},
   "outputs": [
    {
     "name": "stdout",
     "output_type": "stream",
     "text": [
      "enter id:1\n",
      "enter name:junaid\n",
      "enter dob:05\n",
      "enter Salary:500000\n",
      "enter id:2\n",
      "enter name:aswin\n",
      "enter dob:06\n",
      "enter Salary:50000\n",
      "enter id:3\n",
      "enter name:abhirag\n",
      "enter dob:13\n",
      "enter Salary:5\n",
      "['empid', 'empname', 'DOB', 'Salary']\n",
      "['1', 'junaid', '05', '500000']\n",
      "['2', 'aswin', '06', '50000']\n",
      "['3', 'abhirag', '13', '5']\n"
     ]
    }
   ],
   "source": [
    "#5python prgm to writ dict to a csv file\n",
    "import csv\n",
    "with open(\"csv1.csv\",\"w\") as f:\n",
    "    fnames=['empid','empname','DOB','Salary']\n",
    "    writer=csv.DictWriter(f,fieldnames=fnames)\n",
    "    writer.writeheader()\n",
    "    for i in range(3):\n",
    "        writer.writerow({\"empid\":input(\"enter id:\"),\"empname\":input(\"enter name:\"),\"DOB\":input(\"enter dob:\"),\"Salary\":input(\"enter Salary:\")})\n",
    "    \n",
    "with open('csv1.csv', 'r') as file:\n",
    "    reader = csv.reader(file)\n",
    "    for row in reader:\n",
    "        print(row)"
   ]
  },
  {
   "cell_type": "code",
   "execution_count": 24,
   "metadata": {},
   "outputs": [
    {
     "name": "stdout",
     "output_type": "stream",
     "text": [
      "{'empid': '1', 'empname': 'junaid', 'DOB': '05', 'Salary': '500000'}\n",
      "{'empid': '2', 'empname': 'aswin', 'DOB': '06', 'Salary': '50000'}\n",
      "{'empid': '3', 'empname': 'abhirag', 'DOB': '13', 'Salary': '5'}\n"
     ]
    }
   ],
   "source": [
    "#6prgm to read each row and  print lists of strins\n",
    "import csv\n",
    "with open(\"csv1.csv\",\"r\") as f:\n",
    "    reader=csv.DictReader(f)\n",
    "    for row in reader:\n",
    "        print(dict(row))"
   ]
  },
  {
   "cell_type": "code",
   "execution_count": 18,
   "metadata": {},
   "outputs": [
    {
     "name": "stdout",
     "output_type": "stream",
     "text": [
      "Enter csv file name : samplecsv.csv\n",
      "Enter the no.of department : 5\n",
      "------------------------\n",
      "Enter the details of 1th department\n",
      "\n",
      "enter dptid:112\n",
      "enter department name:Mathematics\n",
      "enter no.of employees:7\n",
      "enter Location:kmct\n",
      "------------------------\n",
      "Enter the details of 2th department\n",
      "\n",
      "enter dptid:116\n",
      "enter department name:MCA\n",
      "enter no.of employees:6\n",
      "enter Location:kmct\n",
      "------------------------\n",
      "Enter the details of 3th department\n",
      "\n",
      "enter dptid:119\n",
      "enter department name:MBA\n",
      "enter no.of employees:7\n",
      "enter Location:kmct\n",
      "------------------------\n",
      "Enter the details of 4th department\n",
      "\n",
      "enter dptid:117\n",
      "enter department name:civil\n",
      "enter no.of employees:5\n",
      "enter Location:kmct\n",
      "------------------------\n",
      "Enter the details of 5th department\n",
      "\n",
      "enter dptid:122\n",
      "enter department name:Computer Science\n",
      "enter no.of employees:6\n",
      "enter Location:kmct\n",
      "---------------------\n",
      "Department Id and Department Name are given below \n",
      "112 Mathematics\n",
      "116 MCA\n",
      "119 MBA\n",
      "117 civil\n",
      "122 Computer Science\n"
     ]
    }
   ],
   "source": [
    "#7\n",
    "import csv\n",
    "file=input(\"Enter csv file name : \")\n",
    "with open(file,\"w\",newline=\"\") as f:\n",
    "    fnames=['dptid','dptname','Totalemployees','Location']\n",
    "    writer=csv.DictWriter(f,fieldnames=fnames)\n",
    "    writer.writeheader()\n",
    "    n=int(input(\"Enter the no.of department : \"))\n",
    "    for i in range(n):\n",
    "        print(\"------------------------\")\n",
    "        print(\"Enter the details of \"+str(i+1)+\"th department\\n\")\n",
    "            \n",
    "        writer.writerow({\"dptid\":input(\"enter dptid:\"),\"dptname\":input(\"enter department name:\"),\"Totalemployees\":input(\"enter no.of employees:\"),\"Location\":input(\"enter Location:\")})\n",
    "print(\"---------------------\")        \n",
    "with open(file,\"r\") as f:\n",
    "    reader=csv.DictReader(f)\n",
    "    print(\"Department Id and Department Name are given below \")\n",
    "    for i in reader:\n",
    "        print(i[\"dptid\"],i[\"dptname\"])"
   ]
  },
  {
   "cell_type": "code",
   "execution_count": 10,
   "metadata": {},
   "outputs": [
    {
     "name": "stdout",
     "output_type": "stream",
     "text": [
      "{'dptid': '101', 'dptname': 'police', 'Totalemployees': '1223', 'Locaton': 'kozhikode'}\n",
      "{'dptid': '102', 'dptname': 'incometax', 'Totalemployees': '123', 'Locaton': 'eranakulam'}\n",
      "{'dptid': '103', 'dptname': 'enforcement', 'Totalemployees': '333', 'Locaton': 'trivandrum'}\n",
      "{'dptid': '104', 'dptname': 'indian army', 'Totalemployees': '100000', 'Locaton': 'india'}\n",
      "{'dptid': '105', 'dptname': 'airforce', 'Totalemployees': '555555', 'Locaton': 'india'}\n"
     ]
    }
   ],
   "source": [
    "\n",
    "import csv\n",
    "with open(\"department.csv\",\"r\") as f:\n",
    "    reader=csv.DictReader(f)\n",
    "    for i in reader:\n",
    "        print(i)\n",
    "       "
   ]
  },
  {
   "cell_type": "code",
   "execution_count": null,
   "metadata": {
    "collapsed": true
   },
   "outputs": [],
   "source": []
  }
 ],
 "metadata": {
  "kernelspec": {
   "display_name": "Python 3 (ipykernel)",
   "language": "python",
   "name": "python3"
  },
  "language_info": {
   "codemirror_mode": {
    "name": "ipython",
    "version": 3
   },
   "file_extension": ".py",
   "mimetype": "text/x-python",
   "name": "python",
   "nbconvert_exporter": "python",
   "pygments_lexer": "ipython3",
   "version": "3.9.7"
  }
 },
 "nbformat": 4,
 "nbformat_minor": 2
}
