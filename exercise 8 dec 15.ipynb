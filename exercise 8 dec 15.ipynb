{
 "cells": [
  {
   "cell_type": "code",
   "execution_count": 2,
   "metadata": {},
   "outputs": [
    {
     "name": "stdout",
     "output_type": "stream",
     "text": [
      "Enter 3 numbers: \n",
      "20\n",
      "30\n",
      "40\n",
      "The sum is: 90\n",
      "The values are not equal\n"
     ]
    }
   ],
   "source": [
    "#calc sums of 3int are equal give the thrice\n",
    "n=int(input(\"Enter 3 numbers: \\n\"))\n",
    "k=int(input(\"\"))\n",
    "m=int(input(\"\"))\n",
    "\n",
    "def sums(a,b,c):\n",
    "    total=a+b+c\n",
    "    return total\n",
    "\n",
    "\n",
    "if n==k==m:\n",
    "    t=sums(n,k,m)\n",
    "    print(\"The values are same\\nThe sum is:\",t)\n",
    "    \n",
    "    print(\"Thrice the sum is:\",t*3)\n",
    "else:\n",
    "    s=sums(n,k,m)\n",
    "    print(\"The sum is:\",s)\n",
    "    print(\"The values are not equal\")"
   ]
  },
  {
   "cell_type": "code",
   "execution_count": 33,
   "metadata": {},
   "outputs": [
    {
     "name": "stdout",
     "output_type": "stream",
     "text": [
      "Enter a number:1999\n",
      "The sum of your digits: 28\n"
     ]
    }
   ],
   "source": [
    "#sum of digits\n",
    "num=(input(\"Enter a number:\"))\n",
    "\n",
    "def sumdig(num):\n",
    "    total=0\n",
    "    for i in num:\n",
    "        \n",
    "        total=total+int(i)\n",
    "    return total\n",
    "t=sumdig(num)\n",
    "print(\"The sum of your digits:\",t) "
   ]
  },
  {
   "cell_type": "code",
   "execution_count": 4,
   "metadata": {},
   "outputs": [
    {
     "name": "stdout",
     "output_type": "stream",
     "text": [
      "Enter a number:7\n",
      "The number  7  is a prime number:\n"
     ]
    }
   ],
   "source": [
    "# check prime number\n",
    "num=(int(input(\"Enter a number:\")))\n",
    "\n",
    "\n",
    "def prime(n):\n",
    "    i=1\n",
    "    s=[]\n",
    "    while i<=n:\n",
    "        if n%i==0:\n",
    "            s.append(i)\n",
    "        i=i+1\n",
    "     \n",
    "    if len(s)>2:\n",
    "        print(\"The number is not a prime number:\")\n",
    "        print(\"The factors are:\",s)\n",
    "    else:\n",
    "         print(\"The number \",n,\" is a prime number:\")\n",
    "        \n",
    "    \n",
    "prime(num)\n"
   ]
  },
  {
   "cell_type": "code",
   "execution_count": 16,
   "metadata": {},
   "outputs": [
    {
     "name": "stdout",
     "output_type": "stream",
     "text": [
      "Enter a string:ASWIN ayikkottummal\n",
      "The number of upper case letters : 5\n",
      "The number of lower case letters : 13\n"
     ]
    }
   ],
   "source": [
    "#count of upper case letters and lower case letters\n",
    "s=input(\"Enter a string:\")\n",
    "def countul(string):\n",
    "    i=0\n",
    "    b=0\n",
    "    for a in string:\n",
    "        if a.isupper():\n",
    "            i=i+1\n",
    "        elif a.islower():\n",
    "            b=b+1\n",
    "             \n",
    "    return i,b\n",
    "up,lw=countul(s)\n",
    "print(\"The number of upper case letters :\",up)\n",
    "print(\"The number of lower case letters :\",lw)\n",
    "    \n",
    "            "
   ]
  },
  {
   "cell_type": "code",
   "execution_count": 2,
   "metadata": {},
   "outputs": [
    {
     "name": "stdout",
     "output_type": "stream",
     "text": [
      "Enter the range 2099\n",
      "Enter the current year:2021\n",
      "Enter the limit year:2041\n",
      "The leap years are:\n",
      "2024, 2028, 2032, 2036, 2040, "
     ]
    }
   ],
   "source": [
    "#leap year\n",
    "print(\"Enter the range 2099\")\n",
    "num=(int(input(\"Enter the current year:\")))\n",
    "num2=(int(input(\"Enter the limit year:\")))\n",
    "\n",
    "def leapyear(year1,year2):\n",
    "    for i in range(year1,year2+1):\n",
    "        \n",
    "        if i%4==0:\n",
    "            \n",
    "            print(i,end=\", \")\n",
    "print(\"The leap years are:\")        \n",
    "leapyear(num,num2)"
   ]
  },
  {
   "cell_type": "code",
   "execution_count": 13,
   "metadata": {},
   "outputs": [
    {
     "name": "stdout",
     "output_type": "stream",
     "text": [
      "Enter number of employees : 2\n",
      "Enter name of employee: ramu\n",
      "Enter salary of employee: 10000\n",
      "The inputed Employee name is  ramu  and his salary is  10000\n",
      "Enter name of employee: raju\n",
      "Enter salary of employee: 1\n",
      "The inputed Employee name is  raju  and his salary is  8000\n"
     ]
    }
   ],
   "source": [
    "#employ name and salary\n",
    "def showEmployee(name,sal=8000):\n",
    "    print(\"The inputed Employee name is \",name,\" and his salary is \",sal)\n",
    "n=int(input(\"Enter number of employees : \"))\n",
    "for i in range(n):\n",
    "    name=input(\"Enter name of employee: \")\n",
    "    salary=int(input(\"Enter salary of employee: \"))\n",
    "    if salary <= 5000:\n",
    "        showEmployee(name)\n",
    "    else:\n",
    "        showEmployee(name,salary)\n",
    "    "
   ]
  },
  {
   "cell_type": "code",
   "execution_count": 19,
   "metadata": {},
   "outputs": [
    {
     "name": "stdout",
     "output_type": "stream",
     "text": [
      "Enter the number of values :2\n",
      "Enter the values :10\n",
      "Enter the values :20\n",
      "Minimum of entered items:  10\n"
     ]
    }
   ],
   "source": [
    "#minvalue\n",
    "def minvalue(*arg):\n",
    "    print(\"Minimum of entered items: \",min(arg))\n",
    "l=[]\n",
    "lim=int(input(\"Enter the number of values :\"))\n",
    "for i in range(lim):\n",
    "    k=int(input(\"Enter the values :\"))\n",
    "    l.append(k)\n",
    "m=tuple(l)\n",
    "minvalue(*m)\n",
    "    \n",
    "    \n",
    "\n",
    "    "
   ]
  },
  {
   "cell_type": "code",
   "execution_count": 5,
   "metadata": {},
   "outputs": [
    {
     "name": "stdout",
     "output_type": "stream",
     "text": [
      "Number of persons:2\n",
      "The details of user: 1\n",
      "Number of informations:1\n",
      "Enter info type:name\n",
      "Enter info:a\n",
      "{'name': 'a'}\n",
      "\n",
      "\n",
      "The details of user: 2\n",
      "Number of informations:2\n",
      "Enter info type:name\n",
      "Enter info:b\n",
      "Enter info type:age\n",
      "Enter info:4\n",
      "{'name': 'b', 'age': '4'}\n",
      "\n",
      "\n"
     ]
    }
   ],
   "source": [
    "# user information\n",
    "def userinfo(**dic):\n",
    "    print(dic)\n",
    "    d.clear()\n",
    "    print(\"\\n\")\n",
    "d={}\n",
    "n=int(input(\"Number of persons:\"))\n",
    "for i in range(n):\n",
    "    print(\"The details of user:\",i+1)\n",
    "    m=int(input(\"Number of informations:\"))\n",
    "    for k in range(m):\n",
    "        key=(input(\"Enter info type:\"))\n",
    "        val=(input(\"Enter info:\"))\n",
    "        d.update({key:val})\n",
    "    userinfo(**d)\n",
    "\n",
    "\n"
   ]
  },
  {
   "cell_type": "code",
   "execution_count": null,
   "metadata": {
    "collapsed": true
   },
   "outputs": [],
   "source": [
    "name\n"
   ]
  }
 ],
 "metadata": {
  "kernelspec": {
   "display_name": "Python 3",
   "language": "python",
   "name": "python3"
  },
  "language_info": {
   "codemirror_mode": {
    "name": "ipython",
    "version": 3
   },
   "file_extension": ".py",
   "mimetype": "text/x-python",
   "name": "python",
   "nbconvert_exporter": "python",
   "pygments_lexer": "ipython3",
   "version": "3.6.3"
  }
 },
 "nbformat": 4,
 "nbformat_minor": 2
}
