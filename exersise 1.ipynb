{
 "cells": [
  {
   "cell_type": "code",
   "execution_count": 2,
   "metadata": {},
   "outputs": [
    {
     "name": "stdout",
     "output_type": "stream",
     "text": [
      "enter the amount  5000\n",
      "no.of years  5\n",
      "rate of intrest 8.5\n",
      "simple interest=  2125.0\n"
     ]
    }
   ],
   "source": [
    "#simple intrest\n",
    "p=int(input('enter the amount  '))\n",
    "n=int(input('no.of years  '))\n",
    "r=float(input('rate of intrest '))\n",
    "s=(p*n*r)/100\n",
    "print('simple interest= ',s)"
   ]
  },
  {
   "cell_type": "code",
   "execution_count": 3,
   "metadata": {},
   "outputs": [
    {
     "name": "stdout",
     "output_type": "stream",
     "text": [
      "enter a number  6\n",
      "5 7\n"
     ]
    }
   ],
   "source": [
    "#enter a number get its adjecents\n",
    "a=int(input('enter a number  '))\n",
    "print(a-1,a+1)"
   ]
  },
  {
   "cell_type": "code",
   "execution_count": 4,
   "metadata": {},
   "outputs": [
    {
     "name": "stdout",
     "output_type": "stream",
     "text": [
      "enter the name  aswin\n",
      "hello,aswin!\n"
     ]
    }
   ],
   "source": [
    "#enter your name say hello\n",
    "name=input('enter the name  ')\n",
    "print('hello,'+name+'!')"
   ]
  },
  {
   "cell_type": "code",
   "execution_count": 5,
   "metadata": {},
   "outputs": [
    {
     "name": "stdout",
     "output_type": "stream",
     "text": [
      "enter the height  10\n",
      "enter the base  20\n",
      "area of the right angled triangle=  100.0\n"
     ]
    }
   ],
   "source": [
    "#area of right angled triangle\n",
    "h=int(input('enter the height  '))\n",
    "b=int(input('enter the base  '))\n",
    "area=h*b/2\n",
    "print('area of the right angled triangle= ',area)"
   ]
  },
  {
   "cell_type": "code",
   "execution_count": 6,
   "metadata": {},
   "outputs": [
    {
     "name": "stdout",
     "output_type": "stream",
     "text": [
      "enter then side   10\n",
      "area of the squre= 100\n"
     ]
    }
   ],
   "source": [
    "#area of a squre\n",
    "n=int(input(\"enter then side   \"))\n",
    "area=n*n\n",
    "print(\"area of the squre=\",area)"
   ]
  },
  {
   "cell_type": "code",
   "execution_count": null,
   "metadata": {},
   "outputs": [],
   "source": []
  }
 ],
 "metadata": {
  "kernelspec": {
   "display_name": "Python 3",
   "language": "python",
   "name": "python3"
  },
  "language_info": {
   "codemirror_mode": {
    "name": "ipython",
    "version": 3
   },
   "file_extension": ".py",
   "mimetype": "text/x-python",
   "name": "python",
   "nbconvert_exporter": "python",
   "pygments_lexer": "ipython3",
   "version": "3.6.3"
  }
 },
 "nbformat": 4,
 "nbformat_minor": 2
}
