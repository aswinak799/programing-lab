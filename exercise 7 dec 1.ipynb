{
 "cells": [
  {
   "cell_type": "code",
   "execution_count": 3,
   "metadata": {},
   "outputs": [
    {
     "name": "stdout",
     "output_type": "stream",
     "text": [
      "Enter some comma seperate dnumbers: -1,10,20,-50,-40,30,80\n",
      "Positive list of numbers are:  [10, 20, 30, 80]\n"
     ]
    }
   ],
   "source": [
    "#7.1 using comprihensions\n",
    "#1.a generate positive list of numbers from given list of integers\n",
    "l=list(map(int,input(\"Enter some comma seperate dnumbers: \").split(\",\")))\n",
    "r=[x for x in l if x>0]\n",
    "print(\"Positive list of numbers are: \",r)\n"
   ]
  },
  {
   "cell_type": "code",
   "execution_count": 3,
   "metadata": {},
   "outputs": [
    {
     "name": "stdout",
     "output_type": "stream",
     "text": [
      "Enter some comma seperated numbers: 1,2,3,4\n",
      "Square of N number is:  [1.0, 4.0, 9.0, 16.0]\n"
     ]
    }
   ],
   "source": [
    "#1.b \n",
    "#squre of n numbers\n",
    "import math\n",
    "l=list(map(int,input(\"Enter some comma seperated numbers: \").split(\",\")))\n",
    "r=[math.pow(int(x),2) for x in l]\n",
    "print(\"Square of N number is: \",r)"
   ]
  },
  {
   "cell_type": "code",
   "execution_count": 10,
   "metadata": {},
   "outputs": [
    {
     "name": "stdout",
     "output_type": "stream",
     "text": [
      "Enter a word: aswin\n",
      "List of vowels:  ['a', 'i']\n"
     ]
    }
   ],
   "source": [
    "#1.c\n",
    "#list of vovals from a word\n",
    "word=input(\"Enter a word: \")\n",
    "lit=[]\n",
    "lit=[x for x in word if x in ['a','e','i','o','u','A','E','I','O','U']]\n",
    "temp=[]\n",
    "for i in lit:\n",
    "    if i not in temp:\n",
    "        temp.append(i)\n",
    "print(\"List of vowels: \",temp)\n"
   ]
  },
  {
   "cell_type": "code",
   "execution_count": 4,
   "metadata": {},
   "outputs": [
    {
     "name": "stdout",
     "output_type": "stream",
     "text": [
      "Enter any word: aswin\n",
      "['a', 's', 'w', 'i', 'n']\n",
      "The corresponding ordinal values are:  [97, 115, 119, 105, 110]\n"
     ]
    }
   ],
   "source": [
    "#1:d\n",
    "#Ordinal values of characters of word\n",
    "word=input(\"Enter any word: \")\n",
    "l=list(word)\n",
    "print(l)\n",
    "o=[ord(x) for x in l]\n",
    "print(\"The corresponding ordinal values are: \",o)"
   ]
  },
  {
   "cell_type": "code",
   "execution_count": 13,
   "metadata": {},
   "outputs": [
    {
     "name": "stdout",
     "output_type": "stream",
     "text": [
      "Enter the list of intigers: 10,122\n",
      "[10, 'OVER']\n"
     ]
    }
   ],
   "source": [
    "#7.2\n",
    "#list of intigers more than 100 \"over\"\n",
    "lst=list(map(int,input(\"Enter the list of intigers: \").split(\",\")))\n",
    "for i in range(len(lst)):\n",
    "    if lst[i]>100:\n",
    "        lst[i]=\"OVER\"\n",
    "print(lst)\n"
   ]
  },
  {
   "cell_type": "code",
   "execution_count": 27,
   "metadata": {},
   "outputs": [
    {
     "name": "stdout",
     "output_type": "stream",
     "text": [
      "Enter comma seperated names: \n",
      "raju,ramu,ramanan\n",
      "occurences of a in raju is: 1\n",
      "occurences of a in ramu is: 1\n",
      "occurences of a in ramanan is: 3\n",
      "Total occurences of a in the list is: 5\n"
     ]
    }
   ],
   "source": [
    "#7.3\n",
    "# store list of 1st name count occurences of a\n",
    "lt=input(\"Enter comma seperated names: \\n\")\n",
    "b=lt.split(\",\")\n",
    "ct=0\n",
    "for x in b:\n",
    "    print(\"occurences of a in\",x,\"is:\",x.count(\"a\"))\n",
    "    ct=ct+x.count(\"a\")\n",
    "print(\"Total occurences of a in the list is:\",ct)"
   ]
  },
  {
   "cell_type": "code",
   "execution_count": 34,
   "metadata": {},
   "outputs": [
    {
     "name": "stdout",
     "output_type": "stream",
     "text": [
      "Enter the list of intigers: 10,20,30\n",
      "Enter the list of intigers: 15,20,25\n",
      "yes length of 2 list's is same : 3\n",
      "yes the sum of 2 list's are same :\n",
      "The sum is: 60\n",
      "elements common in both listes: [20]\n"
     ]
    }
   ],
   "source": [
    "#7.4\n",
    "#enter the 2list of intigers\n",
    "lst=list(map(int,input(\"Enter the list of intigers: \").split(\",\")))\n",
    "lst1=list(map(int,input(\"Enter the list of intigers: \").split(\",\")))\n",
    "#cheaking same length\n",
    "if len(lst)==len(lst1):\n",
    "    print(\"yes length of 2 list's is same :\",len(lst))\n",
    "else:\n",
    "    print(\"length is not same\")\n",
    "#cheaking same sums\n",
    "if sum(lst)==sum(lst1):\n",
    "    print(\"yes the sum of 2 list's are same :\")\n",
    "    print(\"The sum is:\",sum(lst))\n",
    "else:\n",
    "    print(\"The sum is not same\")\n",
    "#occernce of common elements\n",
    "ocr=[x for x in lst if x in lst1]\n",
    "if ocr!=0:\n",
    "    print(\"elements common in both listes:\",ocr)\n",
    "else:\n",
    "    print(\"No elements in common\")\n",
    "    "
   ]
  },
  {
   "cell_type": "code",
   "execution_count": 13,
   "metadata": {},
   "outputs": [
    {
     "name": "stdout",
     "output_type": "stream",
     "text": [
      "Enter comma seperated color names:\n",
      "LIST 1: voilet,indigo,blue,green,yellow,orange,red\n",
      "LIST 2: yellow,orange,red,cyan\n",
      "['blue', 'voilet', 'indigo', 'green']\n"
     ]
    }
   ],
   "source": [
    "#7.5 \n",
    "#printout all colors in list1 and not include list2\n",
    "print(\"Enter comma seperated color names:\")\n",
    "lst1=input(\"LIST 1: \")\n",
    "lst2=input(\"LIST 2: \")\n",
    "lt=lst1.split(\",\")\n",
    "lc=lst2.split(\",\")\n",
    "new=set(lt)\n",
    "nw=set(lc)\n",
    "dif=new.difference(nw)\n",
    "colors=list(dif)\n",
    "print(colors)\n",
    "\n"
   ]
  },
  {
   "cell_type": "code",
   "execution_count": 20,
   "metadata": {},
   "outputs": [
    {
     "name": "stdout",
     "output_type": "stream",
     "text": [
      "Enter the list of intigers: 1,2,3,4,5,6,7,8,9,10\n",
      "The even numbers removed list is: [1, 3, 5, 7, 9]\n"
     ]
    }
   ],
   "source": [
    "#7.6\n",
    "#even number removing\n",
    "lst=list(map(int,input(\"Enter the list of intigers: \").split(\",\")))\n",
    "lst1=[]\n",
    "for x in lst:\n",
    "    if x%2!=0:\n",
    "        lst1.append(x)\n",
    "print(\"The even numbers removed list is:\",lst1)\n"
   ]
  },
  {
   "cell_type": "code",
   "execution_count": 8,
   "metadata": {},
   "outputs": [
    {
     "name": "stdout",
     "output_type": "stream",
     "text": [
      "Enter the number of element: 3\n",
      "Enter key :1\n",
      "Enter values :20\n",
      "Enter key :2\n",
      "Enter values :15\n",
      "Enter key :3\n",
      "Enter values :30\n",
      "{'1': '20', '2': '15', '3': '30'}\n",
      "The dictionary values in acending order: ['15', '20', '30']\n",
      "The dictionary values in decending order: ['30', '20', '15']\n"
     ]
    }
   ],
   "source": [
    "#7.7\n",
    "#program to create dict and sorting\n",
    "dic={}\n",
    "l=[]\n",
    "n=int(input(\"Enter the number of element: \") )\n",
    "for i in range(n):\n",
    "    key=input(\"Enter key :\")\n",
    "    value=input(\"Enter values :\")\n",
    "    dic.update({key:value})\n",
    "print(dic)\n",
    "l=sorted(dic.values())\n",
    "l2=sorted(dic.values(),reverse=True)\n",
    "print(\"The dictionary values in acending order:\",l)\n",
    "print(\"The dictionary values in decending order:\",l2)\n"
   ]
  },
  {
   "cell_type": "code",
   "execution_count": 15,
   "metadata": {},
   "outputs": [
    {
     "name": "stdout",
     "output_type": "stream",
     "text": [
      "Enter the limit of 1st dictionary: 2\n",
      "Enter key :name\n",
      "Enter values :victor\n",
      "Enter key :age\n",
      "Enter values :5\n",
      "Enter the limit of 2nd dictionary: 2\n",
      "Enter key :place\n",
      "Enter values :usa\n",
      "Enter key :email\n",
      "Enter values :victor5@com\n",
      "{'name': 'victor', 'age': '5'}\n",
      "{'place': 'usa', 'email': 'victor5@com'}\n",
      "{'name': 'victor', 'age': '5', 'place': 'usa', 'email': 'victor5@com'}\n"
     ]
    }
   ],
   "source": [
    "#7.8 merge two dictionaries\n",
    "dic1={}\n",
    "dic2={}\n",
    "\n",
    "n=int(input(\"Enter the limit of 1st dictionary: \"))\n",
    "for i in range(n):\n",
    "    key=input(\"Enter key :\")\n",
    "    value=input(\"Enter values :\")\n",
    "    dic1.update({key:value})\n",
    "k=int(input(\"Enter the limit of 2nd dictionary: \"))    \n",
    "for i in range(k):\n",
    "    key=input(\"Enter key :\")\n",
    "    value=input(\"Enter values :\")\n",
    "    dic2.update({key:value})\n",
    "    \n",
    "print(dic1)\n",
    "print(dic2)\n",
    "dic1.update(dic2)\n",
    "print(dic1)"
   ]
  },
  {
   "cell_type": "code",
   "execution_count": null,
   "metadata": {
    "collapsed": true
   },
   "outputs": [],
   "source": []
  }
 ],
 "metadata": {
  "kernelspec": {
   "display_name": "Python 3",
   "language": "python",
   "name": "python3"
  },
  "language_info": {
   "codemirror_mode": {
    "name": "ipython",
    "version": 3
   },
   "file_extension": ".py",
   "mimetype": "text/x-python",
   "name": "python",
   "nbconvert_exporter": "python",
   "pygments_lexer": "ipython3",
   "version": "3.6.3"
  }
 },
 "nbformat": 4,
 "nbformat_minor": 2
}
