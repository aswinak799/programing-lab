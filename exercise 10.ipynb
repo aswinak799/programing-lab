{
 "cells": [
  {
   "cell_type": "code",
   "execution_count": 5,
   "metadata": {},
   "outputs": [
    {
     "name": "stdout",
     "output_type": "stream",
     "text": [
      "1.Rectangle\n",
      "2.Circle\n",
      "3.Exit\n",
      "Enter your option:1\n",
      "Enter length: 5\n",
      "Enter breadth: 6\n",
      "Area of the rectangle: 30\n",
      "Perimeter of rectangle: 22\n",
      "1.Rectangle\n",
      "2.Circle\n",
      "3.Exit\n",
      "Enter your option:2\n",
      "enter the radius:3\n",
      "Area of the circle: 28.274333882308138\n",
      "perimeter of circle: 18.84955592153876\n",
      "1.Rectangle\n",
      "2.Circle\n",
      "3.Exit\n",
      "Enter your option:3\n",
      "Exting\n"
     ]
    }
   ],
   "source": [
    "#1create module for rectange circle\n",
    "\n",
    "from rectangle import rectarea\n",
    "from rectangle import rectperi\n",
    "from circle import cirarea\n",
    "from circle import cirperi\n",
    "\n",
    "while(1):\n",
    "    print(\"1.Rectangle\\n2.Circle\\n3.Exit\")\n",
    "    menu=int(input(\"Enter your option:\"))\n",
    "    if menu==1:\n",
    "        l=int(input(\"Enter length: \"))\n",
    "        b=int(input(\"Enter breadth: \"))\n",
    "        area=rectarea(l,b)\n",
    "        print(\"Area of the rectangle:\",area)\n",
    "        peri=rectperi(l,b)\n",
    "        print(\"Perimeter of rectangle:\",peri)\n",
    "    elif menu==2:\n",
    "        m=int(input(\"enter the radius:\"))\n",
    "        carea=cirarea(m)\n",
    "        print(\"Area of the circle:\",carea)\n",
    "        cperi=cirperi(m)\n",
    "        print(\"perimeter of circle:\",cperi)\n",
    "    else:\n",
    "        print(\"Exting\")\n",
    "        break\n",
    "        \n",
    "            \n",
    "        \n",
    "        \n",
    "\n",
    "\n"
   ]
  },
  {
   "cell_type": "code",
   "execution_count": 1,
   "metadata": {},
   "outputs": [
    {
     "name": "stdout",
     "output_type": "stream",
     "text": [
      "Enter radius:5\n",
      "78.53981633974483\n"
     ]
    }
   ],
   "source": [
    "import graphics\n",
    "from graphics.circle import*\n",
    "k=int(input(\"Enter radius:\"))\n",
    "\n",
    "print(cirarea(k))"
   ]
  },
  {
   "cell_type": "code",
   "execution_count": 6,
   "metadata": {},
   "outputs": [
    {
     "name": "stdout",
     "output_type": "stream",
     "text": [
      "1.Rectangle\n",
      "2.Circle\n",
      "3.Cuboid\n",
      "4.Sphere\n",
      "5.Exit\n",
      "Enter your option:4\n",
      "enter the radius:1\n",
      "Area of the sphere: 12.566370614359172\n",
      "circumfernce of sphere: 6.283185307179586\n",
      "1.Rectangle\n",
      "2.Circle\n",
      "3.Cuboid\n",
      "4.Sphere\n",
      "5.Exit\n",
      "Enter your option:5\n",
      "Exit...\n"
     ]
    }
   ],
   "source": [
    "#2\n",
    "import graphics\n",
    "from graphics.circle import*\n",
    "from graphics.rectangle import*\n",
    "from graphics.Graphics3D.cuboid import*\n",
    "from graphics.Graphics3D.sphere import*\n",
    "while(1):\n",
    "    print(\"1.Rectangle\\n2.Circle\\n3.Cuboid\\n4.Sphere\\n5.Exit\")\n",
    "    menu=int(input(\"Enter your option:\"))\n",
    "    if menu==1:\n",
    "        l=int(input(\"Enter length: \"))\n",
    "        b=int(input(\"Enter breadth: \"))\n",
    "        area=rectarea(l,b)\n",
    "        print(\"Area of the rectangle:\",area)\n",
    "        peri=rectperi(l,b)\n",
    "        print(\"Perimeter of rectangle:\",peri)\n",
    "    elif menu==2:\n",
    "        m=int(input(\"enter the radius:\"))\n",
    "        carea=cirarea(m)\n",
    "        print(\"Area of the circle:\",carea)\n",
    "        cperi=cirperi(m)\n",
    "        print(\"perimeter of circle:\",cperi)\n",
    "    elif menu==3:\n",
    "        ln=int(input(\"Enter length: \"))\n",
    "        bd=int(input(\"Enter breadth: \"))\n",
    "        hi=int(input(\"Enter height: \"))\n",
    "        qarea=cubarea(ln,bd,hi)\n",
    "        print(\"Area of the cuboid:\",qarea)\n",
    "        qper=cubper(ln,bd,hi)\n",
    "        print(\"perimeeter of cuboid:\",qper)\n",
    "    elif menu==4:\n",
    "        rad=int(input(\"enter the radius:\"))\n",
    "        sarea=spharea(rad)\n",
    "        print(\"Area of the sphere:\",sarea)\n",
    "        speri=scircum(rad)\n",
    "        print(\"circumfernce of sphere:\",speri)\n",
    "    else:\n",
    "        print(\"Exit...\")    \n",
    "        break\n",
    "            \n",
    "                \n",
    "        \n",
    "        \n",
    "        \n",
    "                \n",
    "                "
   ]
  },
  {
   "cell_type": "code",
   "execution_count": 2,
   "metadata": {},
   "outputs": [
    {
     "name": "stdout",
     "output_type": "stream",
     "text": [
      "Current day: 2022-01-22\n",
      "After substracion of 5 days from current date:  2022-01-17\n"
     ]
    }
   ],
   "source": [
    "#3.1python date and time substracion of 5 days from current date\n",
    "from datetime import datetime,timedelta\n",
    "day=date.today()\n",
    "\n",
    "s=day-timedelta(days=5)\n",
    "\n",
    "print(\"Current day:\",day)\n",
    "#print(\"After substracion of 5 days from current date: \",str(day.year)+\"-\"+str(day.month)+\"-\"+str(day.day-5))\n",
    "print(\"After substracion of 5 days from current date: \",s)"
   ]
  },
  {
   "cell_type": "code",
   "execution_count": 3,
   "metadata": {},
   "outputs": [
    {
     "name": "stdout",
     "output_type": "stream",
     "text": [
      "today: 2022-01-22\n",
      "tomorrow: 2022-01-23\n",
      "yesterday: 2022-01-21\n"
     ]
    }
   ],
   "source": [
    "#3.2using date and time print today tomorrow yesterday\n",
    "from datetime import datetime,timedelta\n",
    "cd=date.today()\n",
    "print(\"today:\",cd)\n",
    "tm=cd+timedelta(days=1)\n",
    "print(\"tomorrow:\",tm)\n",
    "y=cd-timedelta(days=1)\n",
    "print(\"yesterday:\",y)"
   ]
  },
  {
   "cell_type": "code",
   "execution_count": 9,
   "metadata": {},
   "outputs": [
    {
     "name": "stdout",
     "output_type": "stream",
     "text": [
      "today: 2022-01-22\n",
      "Next 5 days printed below\n",
      "2022-01-23\n",
      "2022-01-24\n",
      "2022-01-25\n",
      "2022-01-26\n",
      "2022-01-27\n"
     ]
    }
   ],
   "source": [
    "#3.3 next 5 days\n",
    "from datetime import datetime,timedelta\n",
    "\n",
    "cd= date.today()\n",
    "print(\"today:\",cd)\n",
    "print(\"Next 5 days printed below\")\n",
    "for i in range(5):\n",
    "    print(cd+timedelta(days=i+1))"
   ]
  },
  {
   "cell_type": "code",
   "execution_count": 11,
   "metadata": {},
   "outputs": [
    {
     "name": "stdout",
     "output_type": "stream",
     "text": [
      " begin date : 2022-01-22\n",
      " begin date : 2022-02-05\n",
      "dates btween 2022-01-22 and 2022-02-05\n",
      "total days:  14\n",
      "2022-01-23\n",
      "2022-01-24\n",
      "2022-01-25\n",
      "2022-01-26\n",
      "2022-01-27\n",
      "2022-01-28\n",
      "2022-01-29\n",
      "2022-01-30\n",
      "2022-01-31\n",
      "2022-02-01\n",
      "2022-02-02\n",
      "2022-02-03\n",
      "2022-02-04\n"
     ]
    }
   ],
   "source": [
    "#3.4 print days between two dates\n",
    "from datetime import datetime,timedelta\n",
    "a=date(2022,1,22)\n",
    "print(\" begin date :\",a)\n",
    "\n",
    "b=date(2022,2,5)\n",
    "print(\" begin date :\",b)\n",
    "c=(b-a).days\n",
    "print(\"dates btween\",a,\"and\",b)\n",
    "print(\"total days: \",c)\n",
    "for i in range(c-1):\n",
    "    print(a+timedelta(days=i+1))\n",
    "      "
   ]
  },
  {
   "cell_type": "code",
   "execution_count": null,
   "metadata": {},
   "outputs": [],
   "source": []
  }
 ],
 "metadata": {
  "kernelspec": {
   "display_name": "Python 3 (ipykernel)",
   "language": "python",
   "name": "python3"
  },
  "language_info": {
   "codemirror_mode": {
    "name": "ipython",
    "version": 3
   },
   "file_extension": ".py",
   "mimetype": "text/x-python",
   "name": "python",
   "nbconvert_exporter": "python",
   "pygments_lexer": "ipython3",
   "version": "3.9.7"
  }
 },
 "nbformat": 4,
 "nbformat_minor": 2
}
