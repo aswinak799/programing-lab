{
 "cells": [
  {
   "cell_type": "code",
   "execution_count": 5,
   "metadata": {},
   "outputs": [
    {
     "name": "stdout",
     "output_type": "stream",
     "text": [
      "\n",
      "1.SQUARE\n",
      "2.RECTANGLE\n",
      "3.TRIANGLE\n",
      "4.EXIT\n",
      "-------------------\n",
      "Enter any option: 1\n",
      "SQUARE\n",
      "\n",
      "Enter The length: 5\n",
      "Area Of SQUARE :  25\n",
      "\n",
      "1.SQUARE\n",
      "2.RECTANGLE\n",
      "3.TRIANGLE\n",
      "4.EXIT\n",
      "-------------------\n",
      "Enter any option: 4\n",
      "EXITED....!\n",
      "___________________\n"
     ]
    }
   ],
   "source": [
    "#1write a lamda funcytions tofind area\n",
    "s_area=lambda a:a**2\n",
    "rectangle=lambda l,b:l*b\n",
    "tri_area=lambda a,b,c,s:(s*(s-a)*(s-b)*(s-c))**0.5\n",
    "\n",
    "\n",
    "while(1):\n",
    "    print(\"\\n1.SQUARE\\n2.RECTANGLE\\n3.TRIANGLE\\n4.EXIT\")\n",
    "    print(\"-------------------\")\n",
    "    opt=int(input(\"Enter any option: \"))\n",
    "    if opt==1:\n",
    "        print(\"SQUARE\\n\")\n",
    "        l=int(input(\"Enter The length: \"))\n",
    "        print(\"Area Of SQUARE : \",s_area(l))\n",
    "    elif opt==2:\n",
    "        print(\"RECTANGLE\\n\")\n",
    "        l=int(input(\"Enter length: \"))\n",
    "        b=int(input(\"Enter breadth: \"))\n",
    "        print(\"Area Of RECTANGLE : \",rectangle(l,b))\n",
    "    elif opt==3:\n",
    "        print(\"TRIANGLE\\n\")\n",
    "        a=int(input(\"Enter first side: \"))\n",
    "        b=int(input(\"Enter second side: \"))\n",
    "        c=int(input(\"Enter third side: \"))\n",
    "        s=(a+b+c)/2\n",
    "        print(\"Area Of TRIANGLE: \",tri_area(a,b,c,s))\n",
    "    else:\n",
    "        print(\"EXITED....!\")\n",
    "        print(\"___________________\")\n",
    "        break\n"
   ]
  },
  {
   "cell_type": "code",
   "execution_count": 9,
   "metadata": {},
   "outputs": [
    {
     "name": "stdout",
     "output_type": "stream",
     "text": [
      " Enter a 4 digit Lower range:10000\n",
      "Enter a 4 digit higher range: 20000\n",
      "The required list is:  []\n"
     ]
    }
   ],
   "source": [
    "#2:prgm to get perfect square and 4 digit of a range\n",
    "\n",
    "import math\n",
    "n1=int(input(\" Enter a 4 digit Lower range:\")) #l=list(map(int,input(\"Enter some coma seperated 4 d\")))\n",
    "n2=int(input(\"Enter a 4 digit higher range: \"))\n",
    "l=[]\n",
    "x=0\n",
    "for i in range(n1,n2):\n",
    "    x=i\n",
    "    while x!=0:\n",
    "        k1=x%10\n",
    "        x=int(x/10)\n",
    "        k2=x%10\n",
    "        x=int(x/10)\n",
    "        k3=x%10\n",
    "        x=int(x/10)\n",
    "        k4=x%10\n",
    "        x=int(x/10)\n",
    "        sq=int(math.sqrt(i))\n",
    "    if sq*sq==i:\n",
    "        if k1%2==0 and k2%2==0 and k3%2==0 and k4%2==0:\n",
    "            l.append(i)\n",
    "print(\"The required list is: \",l)"
   ]
  },
  {
   "cell_type": "code",
   "execution_count": 22,
   "metadata": {},
   "outputs": [
    {
     "name": "stdout",
     "output_type": "stream",
     "text": [
      "Enter a word : even\n",
      "\"ing\" added string\n",
      "evening\n"
     ]
    }
   ],
   "source": [
    "#3:prgm to add or change \"ing & ly\" string formating\n",
    "str1=input(\"Enter a word : \")\n",
    "str2=str1[-3:]\n",
    "if str2==\"ing\":\n",
    "    print(\"\\\"ly\\\" added string\")\n",
    "    str1=str1+\"ly\"\n",
    "    print(str1)\n",
    "else:\n",
    "    print(\"\\\"ing\\\" added string\")\n",
    "    str1=str1+\"ing\"\n",
    "    print(str1)\n"
   ]
  },
  {
   "cell_type": "code",
   "execution_count": 23,
   "metadata": {},
   "outputs": [
    {
     "name": "stdout",
     "output_type": "stream",
     "text": [
      "Enter some coma seperated words: aswi,aswin,aswin ak\n",
      "The length of longest word : 8\n"
     ]
    }
   ],
   "source": [
    "#4:Prgm for finding length of longest word\n",
    "l1=[]\n",
    "str1=input(\"Enter some coma seperated words: \")\n",
    "l=str1.split(\",\")\n",
    "for i in l:\n",
    "    l1.append(len(i))\n",
    "print(\"The length of longest word :\",max(l1))"
   ]
  },
  {
   "cell_type": "code",
   "execution_count": null,
   "metadata": {
    "collapsed": true
   },
   "outputs": [],
   "source": []
  }
 ],
 "metadata": {
  "kernelspec": {
   "display_name": "Python 3",
   "language": "python",
   "name": "python3"
  },
  "language_info": {
   "codemirror_mode": {
    "name": "ipython",
    "version": 3
   },
   "file_extension": ".py",
   "mimetype": "text/x-python",
   "name": "python",
   "nbconvert_exporter": "python",
   "pygments_lexer": "ipython3",
   "version": "3.6.3"
  }
 },
 "nbformat": 4,
 "nbformat_minor": 2
}
