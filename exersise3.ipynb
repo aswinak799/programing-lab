{
 "cells": [
  {
   "cell_type": "code",
   "execution_count": 2,
   "metadata": {},
   "outputs": [
    {
     "name": "stdout",
     "output_type": "stream",
     "text": [
      "enter temp in degree celsius: 37\n",
      "temprature in farenheat :  98.6\n"
     ]
    }
   ],
   "source": [
    "#convert temp in celsius to farenheat\n",
    "n=int(input(\"enter temp in degree celsius: \"))\n",
    "f=(n*9/5)+32\n",
    "print(\"temprature in farenheat : \",f)"
   ]
  },
  {
   "cell_type": "code",
   "execution_count": 3,
   "metadata": {},
   "outputs": [
    {
     "name": "stdout",
     "output_type": "stream",
     "text": [
      "enter the value in kilometer :10\n",
      "value in miles :  6.213699999999999\n"
     ]
    }
   ],
   "source": [
    "#convert kilometer to miles\n",
    "n=int(input(\"enter the value in kilometer :\"))\n",
    "miles=n*0.62137\n",
    "print(\"value in miles : \",miles)"
   ]
  },
  {
   "cell_type": "code",
   "execution_count": 4,
   "metadata": {},
   "outputs": [
    {
     "name": "stdout",
     "output_type": "stream",
     "text": [
      "enter the first number: 8\n",
      "enter the second number: 6\n",
      "enter the third number: 15\n",
      "the biggest number is:  15\n"
     ]
    }
   ],
   "source": [
    "#find the biggest number in three\n",
    "a=int(input(\"enter the first number: \"))\n",
    "b=int(input(\"enter the second number: \"))\n",
    "c=int(input(\"enter the third number: \"))\n",
    "m=max(a,b,c)\n",
    "print(\"the biggest number is: \",m)"
   ]
  },
  {
   "cell_type": "code",
   "execution_count": null,
   "metadata": {
    "collapsed": true
   },
   "outputs": [],
   "source": []
  }
 ],
 "metadata": {
  "kernelspec": {
   "display_name": "Python 3",
   "language": "python",
   "name": "python3"
  },
  "language_info": {
   "codemirror_mode": {
    "name": "ipython",
    "version": 3
   },
   "file_extension": ".py",
   "mimetype": "text/x-python",
   "name": "python",
   "nbconvert_exporter": "python",
   "pygments_lexer": "ipython3",
   "version": "3.6.3"
  }
 },
 "nbformat": 4,
 "nbformat_minor": 2
}
